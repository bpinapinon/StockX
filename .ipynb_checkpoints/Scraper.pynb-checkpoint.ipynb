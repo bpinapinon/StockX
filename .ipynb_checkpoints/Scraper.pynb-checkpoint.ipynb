{
 "cells": [
  {
   "cell_type": "code",
   "execution_count": null,
   "metadata": {},
   "outputs": [],
   "source": [
    "# Dependencies\n",
    "import os\n",
    "from bs4 import BeautifulSoup as bs\n",
    "import requests\n",
    "import pymongo\n",
    "import time\n",
    "from splinter import Browser\n",
    "import pandas as pd\n",
    "import csv"
   ]
  },
  {
   "cell_type": "code",
   "execution_count": null,
   "metadata": {},
   "outputs": [],
   "source": [
    "#url = open('url.txt', 'r')\n",
    "#url_list = url.read()\n",
    "url = \"https://stockx.com/adidas-yeezy-boost-350-v2-cream-white\""
   ]
  },
  {
   "cell_type": "code",
   "execution_count": null,
   "metadata": {},
   "outputs": [],
   "source": [
    "url_list = [\"https://stockx.com/adidas-yeezy-boost-350-v2-cream-white\", \"https://stockx.com/adidas-yeezy-boost-350-v2-core-black-white\"]"
   ]
  },
  {
   "cell_type": "code",
   "execution_count": null,
   "metadata": {},
   "outputs": [],
   "source": [
    "# Setting up splinter\n",
    "executable_path = {'executable_path': 'chromedriver'}\n",
    "browser = Browser('chrome', **executable_path)\n",
    "browser.visit(url)"
   ]
  },
  {
   "cell_type": "code",
   "execution_count": null,
   "metadata": {},
   "outputs": [],
   "source": [
    "csv_file = open('Sneaker_data.csv', 'w')\n",
    "writer = csv.writer(csv_file)\n",
    "writer.writerow(['Model','Color','Retail_Price', 'Release_Date', 'Number_of_Sales', 'Price_Premium', 'Avg_Sale_Price'])"
   ]
  },
  {
   "cell_type": "code",
   "execution_count": null,
   "metadata": {},
   "outputs": [],
   "source": [
    "# Retrieve page with the requests module\n",
    "response = requests.get(url)\n",
    "# Create BeautifulSoup object; parse with 'lxml'\n",
    "soup = bs(response.text, 'lxml')\n"
   ]
  },
  {
   "cell_type": "code",
   "execution_count": null,
   "metadata": {},
   "outputs": [],
   "source": [
    "def sneakerscrape():\n",
    "    time.sleep(5)\n",
    "    #Get model of sneaker\n",
    "    model = soup.find('h1', class_='name').text\n",
    "    print(\"test1\")\n",
    "    print(model)\n",
    "    \n",
    "    #Get color of sneaker\n",
    "    detail_attr = soup.find_all('div', class_='detail')\n",
    "    #print(color_id)\n",
    "    details = []\n",
    "    for detail in detail_attr:\n",
    "        span = detail.text\n",
    "        details.append(span)\n",
    "    print(details)\n",
    "\n",
    "    \n",
    "    #Get number of sales\n",
    "    no_sales_id = soup.find_all('div', class_='gauge-value')\n",
    "    no_sales = no_sales_id[0].text\n",
    "    \n",
    "    #Get price premium\n",
    "    #premium_id = soup.find_all('div', class_='gauge-value')\n",
    "    #premium = premium_id[1].text\n",
    "    \n",
    "    #Get average sale price\n",
    "    #avg_sale_id = soup.find_all('div', class_='gauge-value')\n",
    "    #avg_sale = avg_sale_id[2].text\n",
    "    \n",
    "    #dictionary to hold values\n",
    "    #sneakers = {}\n",
    "\n",
    "\n",
    "    #sneakers['Model'] = model\n",
    "    #sneakers['Color'] = details[1]\n",
    "    #sneakers['Retail_Price'] = details[2]\n",
    "    #sneakers['Release_Date'] = details[3]\n",
    "    #sneakers['Number_of_Sales'] = no_sales\n",
    "    #sneakers['Price_Premium'] = premium\n",
    "    #sneakers['Avg_Sale_Price'] = avg_sale\n",
    "    \n",
    "    #write row in csv\n",
    "    #writer.writerow(sneakers.values())\n",
    "    \n",
    "    "
   ]
  },
  {
   "cell_type": "code",
   "execution_count": null,
   "metadata": {},
   "outputs": [],
   "source": [
    "try:\n",
    "    for url in url_list:\n",
    "        executable_path = {'executable_path': 'chromedriver'}\n",
    "        browser = Browser('chrome', **executable_path)\n",
    "        browser.visit(url)\n",
    "        #time.sleep(10)\n",
    "        # Retrieve page with the requests module\n",
    "        response = requests.get(url)\n",
    "        # Create BeautifulSoup object; parse with 'lxml'\n",
    "        soup = bs(response.text, 'lxml')\n",
    "        sneakerscrape()\n",
    "\n",
    "except AttributeError as e:\n",
    "    print(e)\n",
    "    #csv_file.close()"
   ]
  },
  {
   "cell_type": "code",
   "execution_count": null,
   "metadata": {},
   "outputs": [],
   "source": [
    "model = soup.find_all('h1', class_='name')\n",
    "model_id = model[0].text\n",
    "print(model_id)\n"
   ]
  },
  {
   "cell_type": "code",
   "execution_count": null,
   "metadata": {},
   "outputs": [],
   "source": [
    "detail_attr = soup.find_all('div', class_='detail')\n",
    "#print(color_id)\n",
    "details = []\n",
    "for detail in detail_attr:\n",
    "    span = detail.text\n",
    "    details.append(span)\n",
    "#color_id = color[1].text\n",
    "#color_id = color_id.replace(\"Colorway \", \"\")\n",
    "print(colors)"
   ]
  },
  {
   "cell_type": "code",
   "execution_count": null,
   "metadata": {},
   "outputs": [],
   "source": [
    "retail = soup.find_all('div', class_='detail')\n",
    "retail_id = retail[2].text\n",
    "retail_id = retail_id.replace(\"Retail Price \", \"\")\n",
    "print(retail_id)\n",
    "#Retail_Price = driver.find_element_by_xpath('//div[@class=\"detail\"][3]/span').text"
   ]
  },
  {
   "cell_type": "code",
   "execution_count": null,
   "metadata": {},
   "outputs": [],
   "source": [
    "release_id = soup.find_all('div', 'span', class_='detail')\n",
    "release = release_id[3].text\n",
    "release = release.replace(\"Release Date \", \"\")\n",
    "print(release)"
   ]
  },
  {
   "cell_type": "code",
   "execution_count": null,
   "metadata": {},
   "outputs": [],
   "source": [
    "stats_attr = soup.find_all('div', class_='gauge-value')\n",
    "print(stats_attr)"
   ]
  },
  {
   "cell_type": "code",
   "execution_count": null,
   "metadata": {},
   "outputs": [],
   "source": [
    "no_sales_id = soup.find_all('div', class_='gauge-value')\n",
    "no_sales = no_sales_id[0].text\n",
    "print(no_sales)"
   ]
  },
  {
   "cell_type": "code",
   "execution_count": null,
   "metadata": {},
   "outputs": [],
   "source": [
    "premium_id = soup.find_all('div', class_='gauge-value')\n",
    "premium = premium_id[1].text\n",
    "print(premium)\n",
    "#Price_Premium = Each_Price_Info.find_element_by_xpath('.//div[@class=\"gauge-container\"][2]//div[@class=\"gauge-value\"]').text\n"
   ]
  },
  {
   "cell_type": "code",
   "execution_count": null,
   "metadata": {},
   "outputs": [],
   "source": [
    "avg_sale_id = soup.find_all('div', class_='gauge-value')\n",
    "avg_sale = avg_sale_id[2].text\n",
    "print(avg_sale)"
   ]
  },
  {
   "cell_type": "code",
   "execution_count": null,
   "metadata": {},
   "outputs": [],
   "source": []
  }
 ],
 "metadata": {
  "kernelspec": {
   "display_name": "Python 3",
   "language": "python",
   "name": "python3"
  },
  "language_info": {
   "codemirror_mode": {
    "name": "ipython",
    "version": 3
   },
   "file_extension": ".py",
   "mimetype": "text/x-python",
   "name": "python",
   "nbconvert_exporter": "python",
   "pygments_lexer": "ipython3",
   "version": "3.6.5"
  }
 },
 "nbformat": 4,
 "nbformat_minor": 2
}
