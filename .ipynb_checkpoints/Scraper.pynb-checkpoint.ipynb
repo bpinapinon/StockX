{
 "cells": [
  {
   "cell_type": "code",
   "execution_count": 11,
   "metadata": {},
   "outputs": [],
   "source": [
    "# Dependencies\n",
    "import os\n",
    "from bs4 import BeautifulSoup as bs\n",
    "import requests\n",
    "import time\n",
    "from splinter import Browser\n",
    "import csv"
   ]
  },
  {
   "cell_type": "code",
   "execution_count": 12,
   "metadata": {},
   "outputs": [],
   "source": [
    "url_list = [\"https://stockx.com/adidas-yeezy-boost-350-v2-cream-white\", \"https://stockx.com/adidas-yeezy-boost-350-v2-core-black-white\"]"
   ]
  },
  {
   "cell_type": "code",
   "execution_count": 13,
   "metadata": {},
   "outputs": [
    {
     "data": {
      "text/plain": [
       "84"
      ]
     },
     "execution_count": 13,
     "metadata": {},
     "output_type": "execute_result"
    }
   ],
   "source": [
    "csv_file = open('sneaker_data.csv', 'w')\n",
    "writer = csv.writer(csv_file)\n",
    "writer.writerow(['Model','Color','Retail_Price', 'Release_Date', 'Number_of_Sales', 'Price_Premium', 'Avg_Sale_Price'])"
   ]
  },
  {
   "cell_type": "code",
   "execution_count": 14,
   "metadata": {},
   "outputs": [],
   "source": [
    "def sneakerscrape():\n",
    "    time.sleep(5)\n",
    "    \n",
    "    #Get model of sneaker\n",
    "    model = soup.find('h1', class_='name').text\n",
    "    \n",
    "    #Get product details\n",
    "    detail_attr = soup.find_all('div', class_='detail')\n",
    "    details = []\n",
    "    for detail in detail_attr:\n",
    "        span = detail.text\n",
    "        details.append(span)\n",
    "\n",
    "    \n",
    "    #Get stats on sneaker sales/premiums\n",
    "    stats_attr = soup.find_all('div', class_='gauge-value')\n",
    "    stats=[]\n",
    "    for stat in stats_attr:\n",
    "        item = stat.text\n",
    "        stats.append(item)\n",
    "    \n",
    "    #strip strings\n",
    "    color = details[1]\n",
    "    color = color.replace(\"Colorway \", \"\")\n",
    "    \n",
    "    retail = details[2]\n",
    "    retail = retail.replace(\"Retail Price \", \"\")\n",
    "    \n",
    "    release = details[3]\n",
    "    release = release.replace(\"Release Date \", \"\")\n",
    "    \n",
    "    \n",
    "\n",
    "    #dictionary to hold values\n",
    "    sneakers = {}\n",
    "\n",
    "\n",
    "    sneakers['Model'] = model\n",
    "    sneakers['Color'] = color\n",
    "    sneakers['Retail_Price'] = retail\n",
    "    sneakers['Release_Date'] = release\n",
    "    sneakers['Number_of_Sales'] = stats[0]\n",
    "    sneakers['Price_Premium'] = stats[1]\n",
    "    sneakers['Avg_Sale_Price'] = stats[2]\n",
    "    \n",
    "    #write row in csv\n",
    "    writer.writerow(sneakers.values())    "
   ]
  },
  {
   "cell_type": "code",
   "execution_count": 15,
   "metadata": {},
   "outputs": [],
   "source": [
    "try:\n",
    "    for url in url_list:\n",
    "        executable_path = {'executable_path': 'chromedriver'}\n",
    "        browser = Browser('chrome', **executable_path)\n",
    "        browser.visit(url)\n",
    "        # Retrieve page with the requests module\n",
    "        response = requests.get(url)\n",
    "        # Create BeautifulSoup object; parse with 'lxml'\n",
    "        soup = bs(response.text, 'lxml')\n",
    "        sneakerscrape()\n",
    "\n",
    "except AttributeError as e:\n",
    "    print(e)\n",
    "    csv_file.close()"
   ]
  },
  {
   "cell_type": "code",
   "execution_count": null,
   "metadata": {},
   "outputs": [],
   "source": []
  }
 ],
 "metadata": {
  "kernelspec": {
   "display_name": "Python 3",
   "language": "python",
   "name": "python3"
  },
  "language_info": {
   "codemirror_mode": {
    "name": "ipython",
    "version": 3
   },
   "file_extension": ".py",
   "mimetype": "text/x-python",
   "name": "python",
   "nbconvert_exporter": "python",
   "pygments_lexer": "ipython3",
   "version": "3.6.5"
  }
 },
 "nbformat": 4,
 "nbformat_minor": 2
}
