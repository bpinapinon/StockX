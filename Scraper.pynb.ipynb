{
 "cells": [
  {
   "cell_type": "code",
   "execution_count": 1,
   "metadata": {},
   "outputs": [],
   "source": [
    "# Dependencies\n",
    "import os\n",
    "from bs4 import BeautifulSoup as bs\n",
    "import requests\n",
    "import pymongo\n",
    "import time\n",
    "from splinter import Browser\n",
    "import pandas as pd\n",
    "import csv"
   ]
  },
  {
   "cell_type": "code",
   "execution_count": 2,
   "metadata": {},
   "outputs": [],
   "source": [
    "url_list = [\"https://stockx.com/adidas-yeezy-boost-350-v2-cream-white\", \"https://stockx.com/adidas-yeezy-boost-350-v2-core-black-white\"]"
   ]
  },
  {
   "cell_type": "code",
   "execution_count": 3,
   "metadata": {},
   "outputs": [
    {
     "data": {
      "text/plain": [
       "84"
      ]
     },
     "execution_count": 3,
     "metadata": {},
     "output_type": "execute_result"
    }
   ],
   "source": [
    "csv_file = open('sneaker_data.csv', 'w')\n",
    "writer = csv.writer(csv_file)\n",
    "writer.writerow(['Model','Color','Retail_Price', 'Release_Date', 'Number_of_Sales', 'Price_Premium', 'Avg_Sale_Price'])"
   ]
  },
  {
   "cell_type": "code",
   "execution_count": 4,
   "metadata": {},
   "outputs": [],
   "source": [
    "def sneakerscrape():\n",
    "    time.sleep(5)\n",
    "    #Get model of sneaker\n",
    "    model = soup.find('h1', class_='name').text\n",
    "   \n",
    "    print(model)\n",
    "    print(\"test1\")\n",
    "    \n",
    "    #Get color of sneaker\n",
    "    detail_attr = soup.find_all('div', class_='detail')\n",
    "    #print(color_id)\n",
    "    details = []\n",
    "    for detail in detail_attr:\n",
    "        span = detail.text\n",
    "        details.append(span)\n",
    "    print(details)\n",
    "    print(\"test2\")\n",
    "\n",
    "    \n",
    "    #Get number of sales\n",
    "    stats_attr = soup.find_all('div', class_='gauge-value')\n",
    "    #print(stats_attr)\n",
    "    stats=[]\n",
    "    for stat in stats_attr:\n",
    "        item = stat.text\n",
    "        stats.append(item)\n",
    "    print(stats)\n",
    "    print(\"test3\")\n",
    "    \n",
    "    color = details[1]\n",
    "    color = color.replace(\"Colorway \", \"\")\n",
    "    \n",
    "    retail = details[2]\n",
    "    retail = retail.replace(\"Retail Price \", \"\")\n",
    "    \n",
    "    release = details[3]\n",
    "    release = release.replace(\"Release Date \", \"\")\n",
    "    \n",
    "    \n",
    "\n",
    "    #dictionary to hold values\n",
    "    sneakers = {}\n",
    "\n",
    "\n",
    "    sneakers['Model'] = model\n",
    "    sneakers['Color'] = color\n",
    "    sneakers['Retail_Price'] = retail\n",
    "    sneakers['Release_Date'] = release\n",
    "    sneakers['Number_of_Sales'] = stats[0]\n",
    "    sneakers['Price_Premium'] = stats[1]\n",
    "    sneakers['Avg_Sale_Price'] = stats[2]\n",
    "    \n",
    "    #write row in csv\n",
    "    #print(sneakers)\n",
    "    writer.writerow(sneakers.values())    "
   ]
  },
  {
   "cell_type": "code",
   "execution_count": 5,
   "metadata": {},
   "outputs": [
    {
     "name": "stdout",
     "output_type": "stream",
     "text": [
      "adidas Yeezy Boost 350 V2 Cream/Triple White\n",
      "test1\n",
      "['Style CP9366 ', 'Colorway Cream White/Cream White ', 'Retail Price $220 ', 'Release Date 2017-04-29 ']\n",
      "test2\n",
      "['16619', '11.4%', '$371']\n",
      "test3\n",
      "{'Model': 'adidas Yeezy Boost 350 V2 Cream/Triple White', 'Color': 'Cream White/Cream White ', 'Retail_Price': '$220 ', 'Release_Date': '2017-04-29 ', 'Number_of_Sales': '16619', 'Price_Premium': '11.4%', 'Avg_Sale_Price': '$371'}\n",
      "adidas Yeezy Boost 350 V2 Core Black White\n",
      "test1\n",
      "['Style BY1604 ', 'Colorway Core Black/Core White/Core Black ', 'Retail Price $220 ', 'Release Date 2016-12-17 ']\n",
      "test2\n",
      "['1714', '309.1%', '$751']\n",
      "test3\n",
      "{'Model': 'adidas Yeezy Boost 350 V2 Core Black White', 'Color': 'Core Black/Core White/Core Black ', 'Retail_Price': '$220 ', 'Release_Date': '2016-12-17 ', 'Number_of_Sales': '1714', 'Price_Premium': '309.1%', 'Avg_Sale_Price': '$751'}\n"
     ]
    }
   ],
   "source": [
    "try:\n",
    "    for url in url_list:\n",
    "        executable_path = {'executable_path': 'chromedriver'}\n",
    "        browser = Browser('chrome', **executable_path)\n",
    "        browser.visit(url)\n",
    "        #time.sleep(10)\n",
    "        # Retrieve page with the requests module\n",
    "        response = requests.get(url)\n",
    "        # Create BeautifulSoup object; parse with 'lxml'\n",
    "        soup = bs(response.text, 'lxml')\n",
    "        sneakerscrape()\n",
    "\n",
    "except AttributeError as e:\n",
    "    print(e)\n",
    "    csv_file.close()"
   ]
  },
  {
   "cell_type": "code",
   "execution_count": null,
   "metadata": {},
   "outputs": [],
   "source": []
  }
 ],
 "metadata": {
  "kernelspec": {
   "display_name": "Python 3",
   "language": "python",
   "name": "python3"
  },
  "language_info": {
   "codemirror_mode": {
    "name": "ipython",
    "version": 3
   },
   "file_extension": ".py",
   "mimetype": "text/x-python",
   "name": "python",
   "nbconvert_exporter": "python",
   "pygments_lexer": "ipython3",
   "version": "3.6.5"
  }
 },
 "nbformat": 4,
 "nbformat_minor": 2
}
