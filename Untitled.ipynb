{
 "cells": [
  {
   "cell_type": "code",
   "execution_count": 23,
   "metadata": {},
   "outputs": [],
   "source": [
    "# Dependencies\n",
    "import os\n",
    "from bs4 import BeautifulSoup as bs\n",
    "import requests\n",
    "import pymongo\n",
    "import time\n",
    "from splinter import Browser\n",
    "import pandas as pd\n",
    "import csv"
   ]
  },
  {
   "cell_type": "code",
   "execution_count": 24,
   "metadata": {},
   "outputs": [],
   "source": [
    "url = \"https://stockx.com/adidas-yeezy-boost-350-v2-cream-white\""
   ]
  },
  {
   "cell_type": "code",
   "execution_count": 25,
   "metadata": {},
   "outputs": [],
   "source": [
    "# Setting up splinter\n",
    "executable_path = {'executable_path': 'chromedriver'}\n",
    "browser = Browser('chrome', **executable_path)\n",
    "browser.visit(url)"
   ]
  },
  {
   "cell_type": "code",
   "execution_count": 76,
   "metadata": {},
   "outputs": [
    {
     "data": {
      "text/plain": [
       "84"
      ]
     },
     "execution_count": 76,
     "metadata": {},
     "output_type": "execute_result"
    }
   ],
   "source": [
    "csv_file = open('Adidas_StockX.csv', 'w')\n",
    "writer = csv.writer(csv_file)\n",
    "writer.writerow(['Model','Color','Retail_Price', 'Release_Date', 'Number_of_Sales', 'Price_Premium', 'Avg_Sale_Price'])"
   ]
  },
  {
   "cell_type": "code",
   "execution_count": 27,
   "metadata": {},
   "outputs": [],
   "source": [
    "# Retrieve page with the requests module\n",
    "response = requests.get(url)\n",
    "# Create BeautifulSoup object; parse with 'lxml'\n",
    "soup = bs(response.text, 'lxml')\n"
   ]
  },
  {
   "cell_type": "code",
   "execution_count": null,
   "metadata": {},
   "outputs": [],
   "source": [
    "def sneakerscrape():\n",
    "    time.sleep(5)\n",
    "    #Get model of sneaker\n",
    "    model_id = soup.find_all('h1', class_='name')\n",
    "    model = model_id[0].text\n",
    "    \n",
    "    #Get color of sneaker\n",
    "    color_id = soup.find_all('div', class_='detail')\n",
    "    color = color_id[1].text\n",
    "    color = color_id.replace(\"Colorway \", \"\")\n",
    "    \n",
    "    #Get retail price\n",
    "    retail_id = soup.find_all('div', class_='detail')\n",
    "    retail = retail_id[2].text\n",
    "    retail = retail.replace(\"Retail Price \", \"\")\n",
    "    \n",
    "    #Get release date\n",
    "    release_id = soup.find_all('div', 'span', class_='detail')\n",
    "    release = release_id[3].text\n",
    "    release = release.replace(\"Release Date \", \"\")\n",
    "    \n",
    "    #Get number of sales\n",
    "    no_sales_id = soup.find_all('div', class_='gauge-value')\n",
    "    no_sales = no_sales_id[0].text\n",
    "    \n",
    "    #Get price premium\n",
    "    premium_id = soup.find_all('div', class_='gauge-value')\n",
    "    premium = premium_id[1].text\n",
    "    \n",
    "    #Get average sale price\n",
    "    avg_sale_id = soup.find_all('div', class_='gauge-value')\n",
    "    avg_sale = avg_sale_id[2].text\n",
    "    \n",
    "    #dictionary to hold values\n",
    "    sneakers = {}\n",
    "\n",
    "\n",
    "    sneakers['Model'] = model\n",
    "    sneakers['Color'] = color\n",
    "    sneakers['Retail_Price'] = retail\n",
    "    sneakers['Release_Date'] = release\n",
    "    sneakers['Number_of_Sales'] = no_sales\n",
    "    sneakers['Price_Premium'] = premium\n",
    "    sneakers['Avg_Sale_Price'] = avg_sale\n",
    "    \n",
    "    #write row in csv\n",
    "    writer.writerow(sneakers.values())\n",
    "    \n",
    "    "
   ]
  },
  {
   "cell_type": "code",
   "execution_count": 28,
   "metadata": {},
   "outputs": [
    {
     "name": "stdout",
     "output_type": "stream",
     "text": [
      "adidas Yeezy Boost 350 V2 Cream/Triple White\n"
     ]
    }
   ],
   "source": [
    "model = soup.find_all('h1', class_='name')\n",
    "model_id = model[0].text\n",
    "print(model_id)\n"
   ]
  },
  {
   "cell_type": "code",
   "execution_count": 72,
   "metadata": {},
   "outputs": [
    {
     "name": "stdout",
     "output_type": "stream",
     "text": [
      "Cream White/Cream White \n"
     ]
    }
   ],
   "source": [
    "color = soup.find_all('div', class_='detail')\n",
    "color_id = color[1].text\n",
    "color_id = color_id.replace(\"Colorway \", \"\")\n",
    "print(color_id)"
   ]
  },
  {
   "cell_type": "code",
   "execution_count": 73,
   "metadata": {},
   "outputs": [
    {
     "name": "stdout",
     "output_type": "stream",
     "text": [
      "$220 \n"
     ]
    }
   ],
   "source": [
    "retail = soup.find_all('div', class_='detail')\n",
    "retail_id = retail[2].text\n",
    "retail_id = retail_id.replace(\"Retail Price \", \"\")\n",
    "print(retail_id)\n",
    "#Retail_Price = driver.find_element_by_xpath('//div[@class=\"detail\"][3]/span').text"
   ]
  },
  {
   "cell_type": "code",
   "execution_count": 74,
   "metadata": {},
   "outputs": [
    {
     "name": "stdout",
     "output_type": "stream",
     "text": [
      "2017-04-29 \n"
     ]
    }
   ],
   "source": [
    "release_id = soup.find_all('div', 'span', class_='detail')\n",
    "release = release_id[3].text\n",
    "release = release.replace(\"Release Date \", \"\")\n",
    "print(release)"
   ]
  },
  {
   "cell_type": "code",
   "execution_count": 51,
   "metadata": {},
   "outputs": [
    {
     "name": "stdout",
     "output_type": "stream",
     "text": [
      "16574\n"
     ]
    }
   ],
   "source": [
    "no_sales_id = soup.find_all('div', class_='gauge-value')\n",
    "no_sales = no_sales_id[0].text\n",
    "print(no_sales)"
   ]
  },
  {
   "cell_type": "code",
   "execution_count": 54,
   "metadata": {},
   "outputs": [
    {
     "name": "stdout",
     "output_type": "stream",
     "text": [
      "9.1%\n"
     ]
    }
   ],
   "source": [
    "premium_id = soup.find_all('div', class_='gauge-value')\n",
    "premium = premium_id[1].text\n",
    "print(premium)\n",
    "#Price_Premium = Each_Price_Info.find_element_by_xpath('.//div[@class=\"gauge-container\"][2]//div[@class=\"gauge-value\"]').text\n"
   ]
  },
  {
   "cell_type": "code",
   "execution_count": 55,
   "metadata": {},
   "outputs": [
    {
     "name": "stdout",
     "output_type": "stream",
     "text": [
      "$371\n"
     ]
    }
   ],
   "source": [
    "avg_sale_id = soup.find_all('div', class_='gauge-value')\n",
    "avg_sale = avg_sale_id[2].text\n",
    "print(avg_sale)"
   ]
  },
  {
   "cell_type": "code",
   "execution_count": null,
   "metadata": {},
   "outputs": [],
   "source": []
  }
 ],
 "metadata": {
  "kernelspec": {
   "display_name": "Python 3",
   "language": "python",
   "name": "python3"
  },
  "language_info": {
   "codemirror_mode": {
    "name": "ipython",
    "version": 3
   },
   "file_extension": ".py",
   "mimetype": "text/x-python",
   "name": "python",
   "nbconvert_exporter": "python",
   "pygments_lexer": "ipython3",
   "version": "3.6.5"
  }
 },
 "nbformat": 4,
 "nbformat_minor": 2
}
